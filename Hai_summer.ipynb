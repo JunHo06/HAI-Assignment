{
  "nbformat": 4,
  "nbformat_minor": 0,
  "metadata": {
    "colab": {
      "provenance": [],
      "authorship_tag": "ABX9TyMrEeZKP38uyBrTjQ70IZ9O",
      "include_colab_link": true
    },
    "kernelspec": {
      "name": "python3",
      "display_name": "Python 3"
    },
    "language_info": {
      "name": "python"
    }
  },
  "cells": [
    {
      "cell_type": "markdown",
      "metadata": {
        "id": "view-in-github",
        "colab_type": "text"
      },
      "source": [
        "<a href=\"https://colab.research.google.com/github/JunHo06/HAI-Assignment/blob/main/Hai_summer.ipynb\" target=\"_parent\"><img src=\"https://colab.research.google.com/assets/colab-badge.svg\" alt=\"Open In Colab\"/></a>"
      ]
    },
    {
      "cell_type": "code",
      "execution_count": null,
      "metadata": {
        "id": "i9xO7V-1xR9_"
      },
      "outputs": [],
      "source": [
        "import torch.utils.data as data\n",
        "import glob\n",
        "import PIL\n",
        "from torchvision.transforms import Compose, CenterCrop, Resize, ToTensor\n",
        "\n",
        "def getCropImg(crop_size):\n",
        "    return Compose([\n",
        "        CenterCrop(crop_size),\n",
        "        ToTensor()\n",
        "    ])\n",
        "\n",
        "def getLRimage(crop_size, upscale_factor):\n",
        "    return Compose([\n",
        "        CenterCrop(crop_size),\n",
        "        Resize(crop_size // upscale_factor, PIL.Image.BICUBIC),\n",
        "        Resize(crop_size, PIL.Image.BICUBIC),\n",
        "        ToTensor()\n",
        "    ])\n",
        "\n",
        "class MyDataset(data.Dataset):\n",
        "    def __init__(self, image_dir, start, end):\n",
        "        super(MyDataset, self).__init__()\n",
        "        self.png_files = sorted(glob.glob(image_dir + \"/*.png\"))[start:end]\n",
        "        self.input_transform = getLRimage(64, 2)\n",
        "        self.target_transform = getCropImg(64)\n",
        "\n",
        "    def __getitem__(self, index):\n",
        "        input_img = PIL.Image.open(self.png_files[index])\n",
        "        target_img = input_img.copy()\n",
        "\n",
        "        if self.input_transform:\n",
        "            input_img = self.input_transform(input_img)\n",
        "        if self.target_transform:\n",
        "            target_img = self.target_transform(target_img)\n",
        "\n",
        "        return input_img, target_img\n",
        "\n",
        "    def __len__(self):\n",
        "        return len(self.png_files)"
      ]
    },
    {
      "cell_type": "code",
      "source": [
        "import torch.nn as nn\n",
        "\n",
        "class SRCNN(nn.Module):\n",
        "    def __init__(self):\n",
        "        super(SRCNN, self).__init__()\n",
        "        self.layer1 = nn.Conv2d(in_channels=3, out_channels=64, kernel_size=9, stride=1, padding=4)\n",
        "        self.layer2 = nn.Conv2d(in_channels=64, out_channels=32, kernel_size=1, stride=1, padding=0)\n",
        "        self.layer3 = nn.Conv2d(in_channels=32, out_channels=3, kernel_size=5, stride=1, padding=2)\n",
        "        self.relu = nn.ReLU()\n",
        "\n",
        "\n",
        "    def forward(self, x):\n",
        "      x = self.layer1(x)\n",
        "      x = self.layer2(x)\n",
        "      x = self.layer3(x)\n",
        "\n",
        "      return x"
      ],
      "metadata": {
        "id": "CfIzZukVy_ZT"
      },
      "execution_count": null,
      "outputs": []
    },
    {
      "cell_type": "code",
      "source": [
        "import torch\n",
        "import torch.optim as optim\n",
        "from torch.utils.data import DataLoader\n",
        "\n",
        "device = torch.device(\"cuda\" if torch.cuda.is_available() else \"cpu\")\n",
        "model = SRCNN().to(device)\n",
        "epochs = 50\n",
        "batch_size = 32\n",
        "lr = 0.001\n",
        "loss_fn = nn.MSELoss()\n",
        "optimizer = optim.Adam(model.parameters(), lr=lr)\n",
        "\n",
        "trainDataNum, validDataNum, testDataNum = 363, 104, 52\n",
        "\n",
        "train_set = MyDataset('/content/drive/MyDrive/DIV2K_HR_519sampled', 0, trainDataNum)\n",
        "valid_set = MyDataset('/content/drive/MyDrive/DIV2K_HR_519sampled', trainDataNum, trainDataNum + validDataNum)\n",
        "test_set = MyDataset('/content/drive/MyDrive/DIV2K_HR_519sampled', trainDataNum + validDataNum, trainDataNum + validDataNum + testDataNum)\n",
        "\n",
        "training_data_loader = DataLoader(dataset=train_set, batch_size=batch_size, shuffle=True)\n",
        "valid_data_loader = DataLoader(dataset=valid_set, batch_size=batch_size, shuffle=False)\n",
        "test_data_loader = DataLoader(dataset=test_set, batch_size=batch_size, shuffle=False)\n",
        "\n",
        "for epoch in range(epochs):\n",
        "    for i, batch in enumerate(training_data_loader):\n",
        "        input, target = batch[0].to(device), batch[1].to(device)\n",
        "        optimizer.zero_grad()\n",
        "        output = model(input)\n",
        "        loss = loss_fn(output, target)\n",
        "        loss.backward()\n",
        "        optimizer.step()\n",
        "\n",
        "\n",
        "\n",
        "\n",
        "\n",
        "\n",
        "    model.eval()\n",
        "    val_loss = 0.0\n",
        "    with torch.no_grad():\n",
        "        for i, batch in enumerate(valid_data_loader):\n",
        "            input, target = batch[0].to(device), batch[1].to(device)\n",
        "            output = model(input)\n",
        "            loss = loss_fn(output, target)\n",
        "            val_loss += loss.item()\n",
        "\n",
        "    avg_val_loss = val_loss / len(valid_data_loader)\n",
        "    print(f\"Epoch [{epoch+1}/{epochs}], Validation Loss: {avg_val_loss:.4f}\")"
      ],
      "metadata": {
        "id": "EHPSO7b-zX-D"
      },
      "execution_count": null,
      "outputs": []
    },
    {
      "cell_type": "code",
      "source": [
        "import torch\n",
        "\n",
        "# Save the model\n",
        "torch.save(model.state_dict(), \"srcnn_checkpoint.pth\")\n",
        "\n",
        "# Load the model\n",
        "new_model = SRCNN().to(device)\n",
        "new_model.load_state_dict(torch.load(\"srcnn_checkpoint.pth\"))\n",
        "new_model.eval()"
      ],
      "metadata": {
        "id": "SXNPtsSd0BgI"
      },
      "execution_count": null,
      "outputs": []
    }
  ]
}